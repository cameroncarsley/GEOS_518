{
 "cells": [
  {
   "cell_type": "code",
   "execution_count": 14,
   "metadata": {},
   "outputs": [],
   "source": [
    "import numpy as np\n",
    "\n",
    "import scipy as sp\n",
    "\n"
   ]
  },
  {
   "cell_type": "code",
   "execution_count": 15,
   "metadata": {},
   "outputs": [
    {
     "name": "stdout",
     "output_type": "stream",
     "text": [
      "[[             nan              nan              nan ...,              nan\n",
      "               nan              nan]\n",
      " [             nan              nan              nan ...,              nan\n",
      "               nan              nan]\n",
      " [             nan              nan   2.00700000e+03 ...,   1.00000000e+00\n",
      "    1.92239000e+03   5.44380086e+01]\n",
      " ..., \n",
      " [             nan              nan              nan ...,   2.80000000e+01\n",
      "    1.89784000e+03   5.37428046e+01]\n",
      " [             nan              nan              nan ...,   2.90000000e+01\n",
      "    1.70548000e+03   4.82955773e+01]\n",
      " [             nan              nan              nan ...,   3.00000000e+01\n",
      "    1.58083000e+03   4.47657536e+01]]\n"
     ]
    }
   ],
   "source": [
    "data = np.genfromtxt(\"FlatheadRiver_QU.csv\", delimiter=',')\n",
    "\n",
    "print(data)\n"
   ]
  }
 ],
 "metadata": {
  "kernelspec": {
   "display_name": "Python 3",
   "language": "python",
   "name": "python3"
  },
  "language_info": {
   "codemirror_mode": {
    "name": "ipython",
    "version": 3
   },
   "file_extension": ".py",
   "mimetype": "text/x-python",
   "name": "python",
   "nbconvert_exporter": "python",
   "pygments_lexer": "ipython3",
   "version": "3.6.1"
  }
 },
 "nbformat": 4,
 "nbformat_minor": 2
}
