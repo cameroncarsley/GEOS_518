{
 "cells": [
  {
   "cell_type": "code",
   "execution_count": 2,
   "metadata": {
    "scrolled": true
   },
   "outputs": [
    {
     "name": "stdout",
     "output_type": "stream",
     "text": [
      "[[             nan              nan              nan              nan\n",
      "               nan]\n",
      " [  2.00700000e+03   1.00000000e+01   1.00000000e+00   1.21000000e+03\n",
      "    3.42646343e+01]\n",
      " [  2.00700000e+03   1.00000000e+01   2.00000000e+00   1.22000000e+03\n",
      "    3.45478131e+01]\n",
      " ..., \n",
      " [  2.01700000e+03   9.00000000e+00   2.90000000e+01   2.95000000e+03\n",
      "    8.35377449e+01]\n",
      " [  2.01700000e+03   9.00000000e+00   3.00000000e+01   2.94000000e+03\n",
      "    8.32545661e+01]\n",
      " [  2.01700000e+03   1.00000000e+01   1.00000000e+00   3.00000000e+03\n",
      "    8.49536389e+01]]\n"
     ]
    }
   ],
   "source": [
    "import numpy as np\n",
    "\n",
    "import scipy as sp\n",
    "\n",
    "data = np.genfromtxt(\"YellowstoneRiverQ.csv\", delimiter=',')\n",
    "\n",
    "print(data)"
   ]
  }
 ],
 "metadata": {
  "kernelspec": {
   "display_name": "Python 3",
   "language": "python",
   "name": "python3"
  },
  "language_info": {
   "codemirror_mode": {
    "name": "ipython",
    "version": 3
   },
   "file_extension": ".py",
   "mimetype": "text/x-python",
   "name": "python",
   "nbconvert_exporter": "python",
   "pygments_lexer": "ipython3",
   "version": "3.6.1"
  }
 },
 "nbformat": 4,
 "nbformat_minor": 2
}
